{
 "cells": [
  {
   "cell_type": "code",
   "execution_count": 1,
   "id": "e86e252b-a3a9-418a-abd2-6a6b8248a6a8",
   "metadata": {},
   "outputs": [],
   "source": [
    "import numpy as np\n",
    "import cupy as cp\n",
    "import pandas as pd\n",
    "import time\n",
    "import matplotlib.pyplot as plt\n",
    "from itertools import combinations,product\n",
    "from multiprocessing import Pool\n",
    "from sklearn.svm import SVC\n",
    "from sklearn.model_selection import train_test_split\n",
    "from sklearn.decomposition import PCA\n",
    "from sklearn.preprocessing import StandardScaler, MinMaxScaler\n",
    "from sklearn.datasets import load_digits, fetch_openml\n",
    "from sklearn.model_selection import GridSearchCV\n",
    "from qiskit import QuantumCircuit, transpile\n",
    "from qiskit_aer import Aer\n",
    "from qiskit.circuit import ParameterVector\n",
    "import cuquantum"
   ]
  },
  {
   "cell_type": "code",
   "execution_count": 2,
   "id": "48b95aa5-b70b-44e0-b4a4-d76a032bfd63",
   "metadata": {},
   "outputs": [],
   "source": [
    "## First, get 1k MNIST data of only 2-type each. And  \n",
    "\n",
    "mnist = fetch_openml('mnist_784')\n",
    "X = mnist.data.to_numpy()\n",
    "Y = mnist.target.to_numpy().astype(int)\n",
    "class_list = [7,9]\n",
    "c01 = np.where((Y == class_list[0])|(Y == class_list[1]))\n",
    "X,Y = X[c01],Y[c01]\n",
    "MAX=500\n",
    "data_train, label_train = X[:MAX],Y[:MAX]\n",
    "X_train, X_val, Y_train, Y_val = train_test_split(data_train, label_train, test_size = 0.2, random_state=255)"
   ]
  },
  {
   "cell_type": "code",
   "execution_count": 3,
   "id": "23507c00-d6f8-4f71-9f83-3f91dc98617d",
   "metadata": {},
   "outputs": [
    {
     "name": "stdout",
     "output_type": "stream",
     "text": [
      "train & val shape: (400, 784) (100, 784)\n",
      "train class count: 211 189\n",
      "test  class count: 52 48\n"
     ]
    }
   ],
   "source": [
    "print('train & val shape:',X_train.shape, X_val.shape)\n",
    "print('train class count:',len(Y_train[np.where(Y_train==class_list[0])]),len(Y_train[np.where(Y_train==class_list[1])]))\n",
    "print('test  class count:',len(Y_val[np.where(Y_val==class_list[0])]),len(Y_val[np.where(Y_val==class_list[1])]))"
   ]
  },
  {
   "cell_type": "code",
   "execution_count": 4,
   "id": "e5c456b5-53eb-4bc7-b6ff-e56e39ade934",
   "metadata": {},
   "outputs": [],
   "source": [
    "nb1,nb2=10,5\n",
    "def data_prepare(n_dim, sample_train, sample_test):\n",
    "    std_scale = StandardScaler().fit(sample_train)\n",
    "    data = std_scale.transform(sample_train)\n",
    "    sample_train = std_scale.transform(sample_train)\n",
    "    sample_test = std_scale.transform(sample_test)\n",
    "    pca = PCA(n_components=n_dim, svd_solver=\"full\").fit(data)\n",
    "    sample_train = pca.transform(sample_train)\n",
    "    sample_test = pca.transform(sample_test)\n",
    "    samples = np.append(sample_train, sample_test, axis=0)\n",
    "    minmax_scale = MinMaxScaler((-1, 1)).fit(samples)\n",
    "    sample_train = minmax_scale.transform(sample_train)[:nb1]\n",
    "    sample_test = minmax_scale.transform(sample_test)[:nb2]\n",
    "    return sample_train, sample_test\n",
    "def svm_score(sample_train,labels_train,sample_val,labels_val):\n",
    "    parameters = {'C':[1], 'gamma': [0.001, 0.1, 0.25, 0.5, 0.75, 1, 1.25, 2.5, 3.75, 5, 6.25, 7.5, 8.75, 10, 50, 100, 1000]}\n",
    "    svc_grid_search = SVC(kernel=\"rbf\")\n",
    "    clf = GridSearchCV(svc_grid_search, param_grid=parameters, scoring='accuracy')\n",
    "    clf.fit(sample_train,labels_train)\n",
    "    result1=clf.score(sample_train,labels_train)\n",
    "    result2=clf.score(sample_val,labels_val)\n",
    "    return result1, result2"
   ]
  },
  {
   "cell_type": "code",
   "execution_count": 5,
   "id": "fdf92e5e-98ee-4836-b3ef-94fa4d1b0107",
   "metadata": {},
   "outputs": [
    {
     "name": "stdout",
     "output_type": "stream",
     "text": [
      "2 0.6 0.4\n"
     ]
    },
    {
     "name": "stderr",
     "output_type": "stream",
     "text": [
      "/opt/conda/envs/cuquantum-24.03/lib/python3.10/site-packages/sklearn/model_selection/_split.py:776: UserWarning: The least populated class in y has only 4 members, which is less than n_splits=5.\n",
      "  warnings.warn(\n"
     ]
    }
   ],
   "source": [
    "for q in [2]:\n",
    "    n_dim = q\n",
    "    data_train, data_val  = data_prepare(n_dim, X_train, X_val)\n",
    "    score1, score2 = svm_score(data_train,Y_train[:nb1],data_val,Y_val[:nb2])\n",
    "    print(n_dim,score1, score2)\n",
    "#for q in [200,300,400,500,600,784]:\n",
    "#    n_dim = q\n",
    "#    data_train, data_val  = data_prepare(n_dim, X_train, X_val)\n",
    "#    score1, score2 = svm_score(data_train,Y_train[:100],data_val,Y_val[:50])\n",
    "#    print(n_dim,score1, score2)"
   ]
  },
  {
   "cell_type": "markdown",
   "id": "2d6efcd2-78ce-4d54-bc3e-546900643bfe",
   "metadata": {},
   "source": [
    "## statevector simulation"
   ]
  },
  {
   "cell_type": "code",
   "execution_count": 6,
   "id": "b92f4a58-a090-4123-bf97-347e2b7c044b",
   "metadata": {},
   "outputs": [],
   "source": [
    "def make_bsp(n_dim):\n",
    "    param = ParameterVector(\"p\",n_dim)\n",
    "    bsp_qc = QuantumCircuit(n_dim)\n",
    "    bsp_qc.h(list(range(n_dim)))\n",
    "    i = 0\n",
    "    for q in range(n_dim):\n",
    "        bsp_qc.rz(param.params[q],[q])\n",
    "        bsp_qc.ry(param.params[q],[q])\n",
    "    for q in range(n_dim-1):\n",
    "        bsp_qc.cx(0+i, 1+i)\n",
    "        i+=1\n",
    "    for q in range(n_dim):\n",
    "        bsp_qc.rz(param.params[q],[q])\n",
    "    return bsp_qc\n",
    "def all_circuits_parallel(y_t, x_t, indices_list, n_dim, num_cpu):\n",
    "    psix = make_bsp(n_dim)\n",
    "    #psix = ZZFeatureMap(feature_dimension=n_dim, reps=1, entanglement=\"linear\")\n",
    "    psiy = psix.inverse()\n",
    "    with Pool(processes=num_cpu, maxtasksperchild=100) as pool:\n",
    "        circuits = [ psix.assign_parameters(x_t[i2-1]).compose(psiy.assign_parameters(y_t[i1-1])) for i1, i2 in indices_list ]        \n",
    "        #circuits = pool.starmap(kernel.construct_circuit, [(y_t[i1-1], x_t[i2-1],False) for i1, i2 in indices_list])\n",
    "    return circuits\n",
    "def kernel_matrix_svsm(y_t, x_t, circuit,indices_list, simulator, mode=None):\n",
    "    kernel_matrix = np.zeros((len(y_t),len(x_t)))\n",
    "    i = -1\n",
    "    for i1, i2 in indices_list:\n",
    "        i += 1\n",
    "        qc = circuit[i]\n",
    "        qc.save_statevector()\n",
    "        circ = transpile(qc, simulator)\n",
    "        result = simulator.run(circ).result()\n",
    "        amp = abs(result.get_statevector()[0]) ** 2\n",
    "        kernel_matrix[i1-1][i2-1] = np.round(amp,8)\n",
    "    if mode == 'train':\n",
    "        kernel_matrix = kernel_matrix + kernel_matrix.T+np.diag(np.ones((len(x_t))))\n",
    "    return kernel_matrix"
   ]
  },
  {
   "cell_type": "code",
   "execution_count": 7,
   "id": "54f9ea32-fe0e-4667-ad08-1f93bfa46e47",
   "metadata": {},
   "outputs": [],
   "source": [
    "simulator = Aer.get_backend('aer_simulator_statevector')\n",
    "#simulator.set_option('cusvaer_enabled', False)\n",
    "#simulator.set_options(method='statevector', device='GPU')\n",
    "simulator.set_option('precision', 'double')"
   ]
  },
  {
   "cell_type": "code",
   "execution_count": 8,
   "id": "3a937ea9-a108-4e8e-a297-e4cbb1cfecd3",
   "metadata": {},
   "outputs": [],
   "source": [
    "n_dim = 10\n",
    "data_train, data_val  = data_prepare(n_dim, X_train, X_val)"
   ]
  },
  {
   "cell_type": "code",
   "execution_count": 9,
   "id": "1ff0f98d-71d9-4de7-9b5a-63360288a9b9",
   "metadata": {},
   "outputs": [
    {
     "data": {
      "text/plain": [
       "(45, 50)"
      ]
     },
     "execution_count": 9,
     "metadata": {},
     "output_type": "execute_result"
    }
   ],
   "source": [
    "psix = make_bsp(n_dim)\n",
    "psiy = psix.inverse()\n",
    "indices_list_t = list(combinations(range(1, len(data_train) + 1), 2))\n",
    "indices_list_v = list(product(range(1, len(data_val) + 1),range(1, len(data_train) + 1)))\n",
    "len(indices_list_t),len(indices_list_v)"
   ]
  },
  {
   "cell_type": "code",
   "execution_count": 10,
   "id": "6fe3d4a5-a12f-48c1-acdf-faeeb9276757",
   "metadata": {},
   "outputs": [
    {
     "data": {
      "text/plain": [
       "(45, 50)"
      ]
     },
     "execution_count": 10,
     "metadata": {},
     "output_type": "execute_result"
    }
   ],
   "source": [
    "circuit_train = all_circuits_parallel(data_train, data_train, indices_list_t, n_dim, 10)\n",
    "circuit_val   = all_circuits_parallel(data_val, data_train, indices_list_v, n_dim, 10)\n",
    "len(circuit_train),len(circuit_val)"
   ]
  },
  {
   "cell_type": "code",
   "execution_count": 11,
   "id": "7ca13d71-d420-4eeb-9b4b-0444bf77f011",
   "metadata": {},
   "outputs": [
    {
     "name": "stdout",
     "output_type": "stream",
     "text": [
      "[[1.0000000e+00 2.9344507e-01 1.3903281e-01 6.4465295e-01 3.8246672e-01\n",
      "  4.2068012e-01 2.4472696e-01 3.5080255e-01 2.2655007e-01 3.6938208e-01]\n",
      " [2.9344507e-01 1.0000000e+00 1.5510200e-03 6.7127575e-01 6.8602573e-01\n",
      "  8.7677401e-01 9.4729350e-01 7.1718996e-01 7.7812407e-01 7.7380357e-01]\n",
      " [1.3903281e-01 1.5510200e-03 1.0000000e+00 6.7931880e-02 1.4934420e-02\n",
      "  9.8478500e-03 2.4176000e-03 4.3304000e-02 5.9949000e-04 3.8314520e-02]\n",
      " [6.4465295e-01 6.7127575e-01 6.7931880e-02 1.0000000e+00 5.4783098e-01\n",
      "  8.3975912e-01 5.3921719e-01 5.4223523e-01 4.5353901e-01 6.7133499e-01]\n",
      " [3.8246672e-01 6.8602573e-01 1.4934420e-02 5.4783098e-01 1.0000000e+00\n",
      "  7.4971067e-01 7.0673424e-01 8.4119627e-01 8.2042427e-01 7.0141352e-01]\n",
      " [4.2068012e-01 8.7677401e-01 9.8478500e-03 8.3975912e-01 7.4971067e-01\n",
      "  1.0000000e+00 7.5780721e-01 7.2047406e-01 6.7610379e-01 7.6251849e-01]\n",
      " [2.4472696e-01 9.4729350e-01 2.4176000e-03 5.3921719e-01 7.0673424e-01\n",
      "  7.5780721e-01 1.0000000e+00 7.1317960e-01 8.5980666e-01 7.2487047e-01]\n",
      " [3.5080255e-01 7.1718996e-01 4.3304000e-02 5.4223523e-01 8.4119627e-01\n",
      "  7.2047406e-01 7.1317960e-01 1.0000000e+00 6.4513239e-01 8.9255304e-01]\n",
      " [2.2655007e-01 7.7812407e-01 5.9949000e-04 4.5353901e-01 8.2042427e-01\n",
      "  6.7610379e-01 8.5980666e-01 6.4513239e-01 1.0000000e+00 5.5822758e-01]\n",
      " [3.6938208e-01 7.7380357e-01 3.8314520e-02 6.7133499e-01 7.0141352e-01\n",
      "  7.6251849e-01 7.2487047e-01 8.9255304e-01 5.5822758e-01 1.0000000e+00]]\n"
     ]
    }
   ],
   "source": [
    "svsm_kernel_matrix_train = kernel_matrix_svsm(data_train, data_train, circuit_train, indices_list_t, simulator, mode=\"train\")\n",
    "svsm_kernel_matrix_test  = kernel_matrix_svsm(data_val, data_train, circuit_val, indices_list_v, simulator)\n",
    "print(svsm_kernel_matrix_train)"
   ]
  },
  {
   "cell_type": "code",
   "execution_count": 12,
   "id": "3414dffe-0183-4e8a-808d-c17bebb407f8",
   "metadata": {},
   "outputs": [],
   "source": [
    "## ZZFeatureMap\n",
    "from qiskit_machine_learning.algorithms import QSVC\n",
    "from qiskit.circuit.library import ZZFeatureMap\n",
    "from qiskit_machine_learning.kernels import FidelityQuantumKernel\n",
    "\n",
    "#fmap=ZZFeatureMap(n_dim, entanglement='linear')\n",
    "#qkernel = FidelityQuantumKernel(feature_map=fmap)\n",
    "#matrix_train = qkernel.evaluate(data_train)\n",
    "#(svsm_kernel_matrix_train-matrix_train).max()"
   ]
  },
  {
   "cell_type": "code",
   "execution_count": 13,
   "id": "848e5b83-617b-48c7-ba04-d58e89ef1059",
   "metadata": {},
   "outputs": [
    {
     "data": {
      "text/plain": [
       "4.497330952091261e-09"
      ]
     },
     "execution_count": 13,
     "metadata": {},
     "output_type": "execute_result"
    }
   ],
   "source": [
    "from qiskit_machine_learning.algorithms import QSVC\n",
    "from qiskit.circuit.library import ZZFeatureMap\n",
    "from qiskit_machine_learning.kernels import FidelityQuantumKernel\n",
    "\n",
    "fmap=make_bsp(n_dim)\n",
    "qkernel = FidelityQuantumKernel(feature_map=fmap)\n",
    "\n",
    "matrix_train = qkernel.evaluate(data_train)\n",
    "(svsm_kernel_matrix_train-matrix_train).max()"
   ]
  },
  {
   "cell_type": "code",
   "execution_count": 14,
   "id": "0236119b-169f-4f3d-9709-3272890ec9f4",
   "metadata": {},
   "outputs": [
    {
     "data": {
      "text/plain": [
       "4.898527250496443e-09"
      ]
     },
     "execution_count": 14,
     "metadata": {},
     "output_type": "execute_result"
    }
   ],
   "source": [
    "matrix_test = qkernel.evaluate(data_val,data_train)\n",
    "(svsm_kernel_matrix_test-matrix_test).max()"
   ]
  },
  {
   "cell_type": "code",
   "execution_count": 15,
   "id": "d81ef1c6-bf9e-41ed-a629-ff04508fc69c",
   "metadata": {},
   "outputs": [
    {
     "data": {
      "image/png": "[encoded data removed]",
      "text/plain": [
       "<Figure size 1000x500 with 2 Axes>"
      ]
     },
     "metadata": {},
     "output_type": "display_data"
    }
   ],
   "source": [
    "fig, axs = plt.subplots(1, 2, figsize=(10, 5))\n",
    "axs[0].imshow(np.asmatrix(matrix_train), interpolation=\"nearest\", origin=\"upper\", cmap=\"bwr\")\n",
    "axs[0].set_title(\"matrix_train\")\n",
    "axs[1].imshow(np.asmatrix(svsm_kernel_matrix_train), interpolation=\"nearest\", origin=\"upper\", cmap=\"bwr\")\n",
    "axs[1].set_title(\"svsm_kernel_matrix_train\")\n",
    "plt.show()"
   ]
  },
  {
   "cell_type": "code",
   "execution_count": 16,
   "id": "30f472a7-915e-447a-acce-e2357abaece5",
   "metadata": {},
   "outputs": [
    {
     "data": {
      "image/png": "[encoded data removed]",
      "text/plain": [
       "<Figure size 1000x500 with 2 Axes>"
      ]
     },
     "metadata": {},
     "output_type": "display_data"
    }
   ],
   "source": [
    "fig, axs = plt.subplots(1, 2, figsize=(10, 5))\n",
    "axs[0].imshow(np.asmatrix(matrix_test), interpolation=\"nearest\", origin=\"upper\", cmap=\"RdYlGn\")\n",
    "axs[0].set_title(\"matrix_test\")\n",
    "axs[1].imshow(np.asmatrix(svsm_kernel_matrix_test), interpolation=\"nearest\", origin=\"upper\", cmap=\"RdYlGn\")\n",
    "axs[1].set_title(\"svsm_kernel_matrix_test\")\n",
    "plt.show()"
   ]
  },
  {
   "cell_type": "code",
   "execution_count": 17,
   "id": "f7eecc0e-a6af-4679-b4a3-4dee7c415905",
   "metadata": {},
   "outputs": [
    {
     "name": "stdout",
     "output_type": "stream",
     "text": [
      "0.9 0.8\n"
     ]
    }
   ],
   "source": [
    "svc = SVC(kernel=\"precomputed\")\n",
    "svc.fit(svsm_kernel_matrix_train,Y_train[:nb1])\n",
    "result1 = svc.score(svsm_kernel_matrix_train,Y_train[:nb1])\n",
    "result2 = svc.score(svsm_kernel_matrix_test,Y_val[:nb2])\n",
    "print(result1, result2)"
   ]
  },
  {
   "cell_type": "markdown",
   "id": "203bacfc-5118-4f13-9128-321e9a75825e",
   "metadata": {},
   "source": [
    "---"
   ]
  },
  {
   "cell_type": "markdown",
   "id": "52ff33aa-0b7d-4aa6-a406-4eeadb671fa9",
   "metadata": {},
   "source": [
    "## tensornetwork simulation"
   ]
  },
  {
   "cell_type": "code",
   "execution_count": 51,
   "id": "2b384fa8-dcbd-4a00-8d40-f0871b9fe4e1",
   "metadata": {},
   "outputs": [],
   "source": [
    "def get_exp(x_t, n_dim, kernel):\n",
    "    psix = make_bsp(n_dim)\n",
    "    psiy = psix.inverse()\n",
    "    circuit = psix.assign_parameters(x_t[0]).compose(psiy.assign_parameters(x_t[0]))\n",
    "    \n",
    "    converter = CircuitToEinsum(circuit, backend='numpy')\n",
    "    a = str(0).zfill(n_dim)\n",
    "    exp, _ = converter.amplitude(a)  \n",
    "    return exp\n",
    "    \n",
    "def get_operand(circuit,n_dim):\n",
    "    a = str(0).zfill(n_dim)\n",
    "    converter = CircuitToEinsum(circuit, backend='numpy')\n",
    "    _, oper = converter.amplitude(a)  \n",
    "    return oper    \n",
    "def all_operands_parallel(circuit, n_dim, num_cpu):\n",
    "    with Pool(processes=num_cpu, maxtasksperchild=100) as pool:\n",
    "        indices_list = list(range(len(circuit)))\n",
    "        operands = pool.starmap(get_operand, [(circuit[i],n_dim) for i in indices_list])\n",
    "    return operands\n",
    "def kernel_matrix_tnsm(y_t, x_t, exp, opers, indices_list, options, mode=None):\n",
    "    kernel_matrix = np.zeros((len(y_t),len(x_t)))\n",
    "    i, oper = -1, opers[0]\n",
    "    with Network(exp, *oper, options=options) as tn:\n",
    "        tn.contract_path()\n",
    "        for i1, i2 in indices_list:\n",
    "            i += 1\n",
    "            tn.reset_operands(*opers[i])     \n",
    "            amp_tn = abs(tn.contract()) ** 2\n",
    "            kernel_matrix[i1-1][i2-1] = np.round(amp_tn,8) \n",
    "        tn.free()\n",
    "    if mode == 'train':\n",
    "        kernel_matrix = kernel_matrix + kernel_matrix.T+np.diag(np.ones((len(x_t))))\n",
    "    return kernel_matrix"
   ]
  },
  {
   "cell_type": "code",
   "execution_count": 52,
   "id": "91311eb8-efb9-4dea-ae70-697cd6e3bdaf",
   "metadata": {},
   "outputs": [],
   "source": [
    "n_dim = 10\n",
    "data_train, data_val  = data_prepare(n_dim, X_train, X_val)"
   ]
  },
  {
   "cell_type": "code",
   "execution_count": 53,
   "id": "c565dfe1-7caf-4be7-a030-4be3aef33017",
   "metadata": {},
   "outputs": [
    {
     "data": {
      "text/plain": [
       "(45, 50)"
      ]
     },
     "execution_count": 53,
     "metadata": {},
     "output_type": "execute_result"
    }
   ],
   "source": [
    "indices_list_t = list(combinations(range(1, len(data_train) + 1), 2))\n",
    "indices_list_v = list(product(range(1, len(data_val) + 1),range(1, len(data_train) + 1)))\n",
    "len(indices_list_t),len(indices_list_v)"
   ]
  },
  {
   "cell_type": "code",
   "execution_count": 54,
   "id": "b568b3a0-e55d-4e9d-99fc-3a92669bc146",
   "metadata": {},
   "outputs": [
    {
     "name": "stdout",
     "output_type": "stream",
     "text": [
      "10\n",
      "5\n"
     ]
    }
   ],
   "source": [
    "print(len(data_train))\n",
    "print(len(data_val))"
   ]
  },
  {
   "cell_type": "code",
   "execution_count": 56,
   "id": "0ae3e5fc-1752-427b-b345-cae40c24d968",
   "metadata": {},
   "outputs": [
    {
     "ename": "TypeError",
     "evalue": "all_circuits_parallel() takes 5 positional arguments but 6 were given",
     "output_type": "error",
     "traceback": [
      "\u001b[0;31m---------------------------------------------------------------------------\u001b[0m",
      "\u001b[0;31mTypeError\u001b[0m                                 Traceback (most recent call last)",
      "Cell \u001b[0;32mIn[56], line 1\u001b[0m\n\u001b[0;32m----> 1\u001b[0m circuit_train \u001b[38;5;241m=\u001b[39m \u001b[43mall_circuits_parallel\u001b[49m\u001b[43m(\u001b[49m\u001b[43mdata_train\u001b[49m\u001b[43m,\u001b[49m\u001b[43m \u001b[49m\u001b[43mdata_train\u001b[49m\u001b[43m,\u001b[49m\u001b[43m \u001b[49m\u001b[43mindices_list_t\u001b[49m\u001b[43m,\u001b[49m\u001b[43m \u001b[49m\u001b[43mn_dim\u001b[49m\u001b[43m,\u001b[49m\u001b[43m \u001b[49m\u001b[43mqkernel\u001b[49m\u001b[43m,\u001b[49m\u001b[43m \u001b[49m\u001b[38;5;241;43m10\u001b[39;49m\u001b[43m)\u001b[49m\n\u001b[1;32m      2\u001b[0m circuit_val   \u001b[38;5;241m=\u001b[39m all_circuits_parallel(data_val, data_train, indices_list_v, n_dim, qkernel, \u001b[38;5;241m10\u001b[39m)\n",
      "\u001b[0;31mTypeError\u001b[0m: all_circuits_parallel() takes 5 positional arguments but 6 were given"
     ]
    }
   ],
   "source": [
    "circuit_train = all_circuits_parallel(data_train, data_train, indices_list_t, n_dim, qkernel, 10)\n",
    "circuit_val   = all_circuits_parallel(data_val, data_train, indices_list_v, n_dim, qkernel, 10)"
   ]
  },
  {
   "cell_type": "code",
   "execution_count": 91,
   "id": "9e6a19f0-ad9e-4d66-ad85-19c45ee8bc0a",
   "metadata": {},
   "outputs": [
    {
     "data": {
      "text/plain": [
       "(190, 100)"
      ]
     },
     "execution_count": 91,
     "metadata": {},
     "output_type": "execute_result"
    }
   ],
   "source": [
    "oper_train = all_operands_parallel(circuit_train, n_dim, 10)\n",
    "oper_val   = all_operands_parallel(circuit_val,n_dim,10)\n",
    "len(oper_train),len(oper_val)"
   ]
  },
  {
   "cell_type": "code",
   "execution_count": 94,
   "id": "c80d9104-a688-4743-95a5-87fc36b666ac",
   "metadata": {},
   "outputs": [],
   "source": [
    "# oper = oper_train[0]\n",
    "options = NetworkOptions(blocking=\"auto\")\n",
    "# network = Network(exp, *oper,options=options)\n",
    "# path, info = network.contract_path()"
   ]
  },
  {
   "cell_type": "code",
   "execution_count": 95,
   "id": "ab7ca37d-e1fa-4517-ac4f-4145346c6f78",
   "metadata": {
    "scrolled": true
   },
   "outputs": [],
   "source": [
    "exp = get_exp(data_train, n_dim, bsp_kernel_tnsm)\n",
    "\n",
    "tnsm_kernel_matrix_train = kernel_matrix_tnsm(data_train, data_train, exp, oper_train, indices_list_t, options, mode='train')\n",
    "tnsm_kernel_matrix_test  = kernel_matrix_tnsm(data_val, data_train, exp, oper_val, indices_list_v, options, mode=None)"
   ]
  },
  {
   "cell_type": "code",
   "execution_count": 96,
   "id": "88a7d9b5-0255-4d04-97e9-9617bc307887",
   "metadata": {},
   "outputs": [
    {
     "data": {
      "text/plain": [
       "(20, 20)"
      ]
     },
     "execution_count": 96,
     "metadata": {},
     "output_type": "execute_result"
    }
   ],
   "source": [
    "tnsm_kernel_matrix_train.shape"
   ]
  },
  {
   "cell_type": "code",
   "execution_count": 97,
   "id": "95c985a5-7218-4bec-99b5-2e10148e47c1",
   "metadata": {},
   "outputs": [
    {
     "data": {
      "text/plain": [
       "0.0"
      ]
     },
     "execution_count": 97,
     "metadata": {},
     "output_type": "execute_result"
    }
   ],
   "source": [
    "(tnsm_kernel_matrix_train-svsm_kernel_matrix_train).max()"
   ]
  },
  {
   "cell_type": "code",
   "execution_count": 98,
   "id": "5c8fdb5d-face-49b6-be03-27e1faa903ea",
   "metadata": {},
   "outputs": [
    {
     "data": {
      "text/plain": [
       "0.0"
      ]
     },
     "execution_count": 98,
     "metadata": {},
     "output_type": "execute_result"
    }
   ],
   "source": [
    "(tnsm_kernel_matrix_test-svsm_kernel_matrix_test).max()"
   ]
  },
  {
   "cell_type": "code",
   "execution_count": 99,
   "id": "aa3e3911-7588-408b-bdc2-f6220beca5ef",
   "metadata": {},
   "outputs": [
    {
     "data": {
      "image/png": "[encoded data removed]",
      "text/plain": [
       "<Figure size 1000x500 with 2 Axes>"
      ]
     },
     "metadata": {},
     "output_type": "display_data"
    }
   ],
   "source": [
    "fig, axs = plt.subplots(1, 2, figsize=(10, 5))\n",
    "axs[0].imshow(np.asmatrix(svsm_kernel_matrix_train), interpolation=\"nearest\", origin=\"upper\", cmap=\"bwr\")\n",
    "axs[0].set_title(\"svsm_kernel_matrix_train\")\n",
    "axs[1].imshow(np.asmatrix(tnsm_kernel_matrix_train), interpolation=\"nearest\", origin=\"upper\", cmap=\"bwr\")\n",
    "axs[1].set_title(f\"tnsm_kernel_matrix_train\\n erro:{(tnsm_kernel_matrix_train-svsm_kernel_matrix_train).max()}\")\n",
    "plt.show()"
   ]
  },
  {
   "cell_type": "code",
   "execution_count": 4,
   "id": "75737158-404f-4602-9d30-a34df241e338",
   "metadata": {},
   "outputs": [
    {
     "data": {
      "text/html": [
       "<pre style=\"word-wrap: normal;white-space: pre;background: #fff0;line-height: 1.1;font-family: &quot;Courier New&quot;,Courier,monospace\">     ┌─────────────────────────────────────────┐\n",
       "q_0: ┤0                                        ├\n",
       "     │                                         │\n",
       "q_1: ┤1                                        ├\n",
       "     │                                         │\n",
       "q_2: ┤2 ZZFeatureMap(x[0],x[1],x[2],x[3],x[4]) ├\n",
       "     │                                         │\n",
       "q_3: ┤3                                        ├\n",
       "     │                                         │\n",
       "q_4: ┤4                                        ├\n",
       "     └─────────────────────────────────────────┘</pre>"
      ],
      "text/plain": [
       "     ┌─────────────────────────────────────────┐\n",
       "q_0: ┤0                                        ├\n",
       "     │                                         │\n",
       "q_1: ┤1                                        ├\n",
       "     │                                         │\n",
       "q_2: ┤2 ZZFeatureMap(x[0],x[1],x[2],x[3],x[4]) ├\n",
       "     │                                         │\n",
       "q_3: ┤3                                        ├\n",
       "     │                                         │\n",
       "q_4: ┤4                                        ├\n",
       "     └─────────────────────────────────────────┘"
      ]
     },
     "execution_count": 4,
     "metadata": {},
     "output_type": "execute_result"
    }
   ],
   "source": [
    "from qiskit.circuit.library import ZZFeatureMap\n",
    "from qiskit.visualization import circuit_drawer\n",
    "\n",
    "# Define the number of features\n",
    "n_features = X_train_reduced.shape[1]  # Number of PCA components\n",
    "\n",
    "# Create the ZZFeatureMap\n",
    "feature_map = ZZFeatureMap(feature_dimension=n_features, entanglement='linear')\n",
    "\n",
    "# Visualize the circuit\n",
    "circuit_drawer(feature_map, style={'backgroundcolor': '#ffffff'})\n"
   ]
  },
  {
   "cell_type": "code",
   "execution_count": 2,
   "id": "0c603f6b-bdef-4e58-a142-26a71b4cd9da",
   "metadata": {},
   "outputs": [
    {
     "data": {
      "image/png": "[encoded data removed]",
      "text/plain": [
       "<Figure size 538.128x200.667 with 1 Axes>"
      ]
     },
     "execution_count": 2,
     "metadata": {},
     "output_type": "execute_result"
    }
   ],
   "source": [
    "from qiskit import QuantumCircuit\n",
    "from qiskit.visualization import circuit_drawer\n",
    "\n",
    "# Create a quantum circuit with 2 qubits\n",
    "qc = QuantumCircuit(2)\n",
    "\n",
    "# Add gates to create a circuit with depth 3\n",
    "qc.h(0)  # Apply Hadamard gate to qubit 0\n",
    "qc.cx(0, 1)  # Apply CNOT gate with qubit 0 as control and qubit 1 as target\n",
    "qc.h(1)  # Apply Hadamard gate to qubit 1\n",
    "qc.cx(0, 1)  # Apply another CNOT gate with qubit 0 as control and qubit 1 as target\n",
    "qc.h(0)  # Apply another Hadamard gate to qubit 0\n",
    "\n",
    "# Draw the circuit\n",
    "circuit_drawer(qc, output='mpl')\n"
   ]
  },
  {
   "cell_type": "code",
   "execution_count": 3,
   "id": "589c5290-6e64-4242-8eba-ebe725062423",
   "metadata": {},
   "outputs": [],
   "source": [
    "from qiskit import QuantumCircuit\n",
    "from qiskit.visualization import circuit_drawer\n",
    "\n",
    "# Create a quantum circuit with 2 qubits\n",
    "qc = QuantumCircuit(2)\n",
    "\n",
    "# Add gates to create a circuit with depth 3\n",
    "qc.h(0)  # Apply Hadamard gate to qubit 0\n",
    "qc.cx(0, 1)  # Apply CNOT gate with qubit 0 as control and qubit 1 as target\n",
    "qc.h(1)  # Apply Hadamard gate to qubit 1\n",
    "qc.cx(0, 1)  # Apply another CNOT gate with qubit 0 as control and qubit 1 as target\n",
    "qc.h(0)  # Apply another Hadamard gate to qubit 0\n",
    "\n",
    "# Draw the circuit and get the figure\n",
    "fig = circuit_drawer(qc, output='mpl')\n",
    "\n",
    "# Save the figure with 300 DPI\n",
    "fig.savefig('quantum_circuit.png', dpi=300)\n"
   ]
  },
  {
   "cell_type": "code",
   "execution_count": 6,
   "id": "7ed8add2-4cb6-41d8-9f0a-07748cf0fde4",
   "metadata": {},
   "outputs": [
    {
     "name": "stdout",
     "output_type": "stream",
     "text": [
      "Using GPU:0\n",
      "10 80 0.042 2.805 10.131 8.405 3160 / 1\n"
     ]
    },
    {
     "data": {
      "image/png": "[encoded data removed]",
      "text/plain": [
       "<Figure size 1000x500 with 1 Axes>"
      ]
     },
     "metadata": {},
     "output_type": "display_data"
    }
   ],
   "source": [
    "import numpy as np\n",
    "import scipy.io\n",
    "import cupy as cp\n",
    "import matplotlib.pyplot as plt\n",
    "from itertools import combinations\n",
    "from sklearn.svm import SVC\n",
    "from sklearn.model_selection import train_test_split\n",
    "from sklearn.decomposition import PCA\n",
    "from sklearn.preprocessing import StandardScaler, MinMaxScaler\n",
    "from qiskit import QuantumCircuit\n",
    "from qiskit.circuit import ParameterVector\n",
    "from cuquantum import Network, CircuitToEinsum, NetworkOptions\n",
    "from mpi4py import MPI\n",
    "import time  # Add this import\n",
    "\n",
    "# MPI Setup\n",
    "root = 0\n",
    "comm_mpi = MPI.COMM_WORLD\n",
    "rank, size = comm_mpi.Get_rank(), comm_mpi.Get_size()\n",
    "device_id = 0\n",
    "cp.cuda.Device(device_id).use()\n",
    "print(f\"Using GPU:{device_id}\")\n",
    "\n",
    "# Load the .mat file\n",
    "data = scipy.io.loadmat('data/BCICIV_2a_gdf/processed_features_vmd/combined_features_labels.mat')\n",
    "\n",
    "# Extract features and labels\n",
    "X = data['features']   # Features\n",
    "y = data['labels']     # Labels\n",
    "\n",
    "# Convert complex values to real if necessary\n",
    "X = np.real(X)\n",
    "\n",
    "# Ensure labels are a 1D array\n",
    "y = y.flatten()\n",
    "\n",
    "# Split the data into training and test sets\n",
    "X_train, X_test, y_train, y_test = train_test_split(X, y, test_size=0.2, random_state=42)\n",
    "\n",
    "# Normalize the feature matrix and apply PCA\n",
    "def data_prepare(nq, sample_train, sample_test, nb1, nb2):\n",
    "    std_scale = StandardScaler().fit(sample_train)\n",
    "    sample_train = std_scale.transform(sample_train)\n",
    "    sample_test = std_scale.transform(sample_test)\n",
    "    \n",
    "    pca = PCA(n_components=nq, svd_solver=\"auto\").fit(sample_train)\n",
    "    sample_train = pca.transform(sample_train)\n",
    "    sample_test = pca.transform(sample_test)\n",
    "    \n",
    "    samples = np.append(sample_train, sample_test, axis=0)\n",
    "    minmax_scale = MinMaxScaler((-1, 1)).fit(samples)\n",
    "    sample_train = minmax_scale.transform(sample_train)[:nb1]\n",
    "    sample_test = minmax_scale.transform(sample_test)[:nb2]\n",
    "    \n",
    "    return sample_train, sample_test\n",
    "\n",
    "# Define the quantum circuit\n",
    "def make_bsp(nq):\n",
    "    param = ParameterVector(\"p\", nq)\n",
    "    bsp_qc = QuantumCircuit(nq)\n",
    "    bsp_qc.h(list(range(nq)))         # Apply Hadamard gate\n",
    "    for q in range(nq):               # Apply RZ and RY gates\n",
    "        bsp_qc.rz(param.params[q], [q])\n",
    "        bsp_qc.ry(param.params[q], [q])\n",
    "    for q in range(nq - 1):           # Apply CNOT gates\n",
    "        bsp_qc.cx(q, q + 1)\n",
    "    for q in range(nq):               # Apply RZ gates again\n",
    "        bsp_qc.rz(param.params[q], [q])\n",
    "    return bsp_qc\n",
    "\n",
    "def new_op(nq, op, y_t, x_t, izy, izz, iyz):\n",
    "    new = op[:]\n",
    "    for i in range(nq):\n",
    "        d1, d2 = y_t[i], x_t[i]\n",
    "        z_g = np.array([[np.exp(-1j * 0.5 * d1), 0], [0, np.exp(1j * 0.5 * d1)]])\n",
    "        z_gd = np.array([[np.exp(1j * 0.5 * d2), 0], [0, np.exp(-1j * 0.5 * d2)]])\n",
    "        y_g = np.array([[np.cos(d1 / 2), -np.sin(d1 / 2)], [np.sin(d1 / 2), np.cos(d1 / 2)]])\n",
    "        y_gd = np.array([[np.cos(d2 / 2), np.sin(d2 / 2)], [-np.sin(d2 / 2), np.cos(d2 / 2)]])\n",
    "\n",
    "        n_zy_g = [z_g]\n",
    "        n_zy_g.append(y_g)\n",
    "        new[izy[i]:izy[i] + 2] = cp.array(n_zy_g)\n",
    "\n",
    "        n_zz_g = [z_g]\n",
    "        n_zz_g.append(z_gd)\n",
    "        new[izz[i]:izz[i] + 2] = cp.array(n_zz_g)\n",
    "\n",
    "        n_zy_g = [y_gd]\n",
    "        n_zy_g.append(z_gd)\n",
    "        new[iyz[i]:iyz[i] + 2] = cp.array(n_zy_g)\n",
    "    return new\n",
    "\n",
    "def kernel_matrix_tnsm(y_t, x_t, opers, indices_list, network, mode='train'):\n",
    "    kernel_matrix = np.zeros((len(y_t), len(x_t)))\n",
    "    with network as tn:\n",
    "        for i, (i1, i2) in enumerate(indices_list):\n",
    "            tn.reset_operands(*opers[i])\n",
    "            amp_tn = abs(tn.contract()) ** 2\n",
    "            kernel_matrix[i1 - 1][i2 - 1] = np.round(amp_tn, 15)\n",
    "    if mode == 'train':\n",
    "        kernel_matrix = kernel_matrix + kernel_matrix.T + np.diag(np.ones((len(x_t))))\n",
    "    return kernel_matrix\n",
    "\n",
    "def list2kernel(amp, indices_list, y_t, x_t, mode='train'):\n",
    "    chunk = len(amp[0])\n",
    "    kernel_matrix = np.zeros((len(y_t), len(x_t)))\n",
    "    for i, (i1, i2) in enumerate(indices_list):\n",
    "        kernel_matrix[i1 - 1][i2 - 1] = amp[i // chunk][i % chunk]\n",
    "    if mode == 'train':\n",
    "        kernel_matrix = kernel_matrix + kernel_matrix.T + np.diag(np.ones((len(x_t))))\n",
    "    return kernel_matrix\n",
    "\n",
    "def operand_to_amp(opers, indices_list, network):\n",
    "    amp_tmp = []\n",
    "    with network as tn:\n",
    "        for i, (i1, i2) in enumerate(indices_list):\n",
    "            tn.reset_operands(*opers[i])\n",
    "            amp_tn = abs(tn.contract()) ** 2\n",
    "            amp_tmp.append(amp_tn)\n",
    "    return amp_tmp\n",
    "\n",
    "def test_train(ndim, dtrain, genop=True):\n",
    "    indices_list_t = list(combinations(range(1, len(dtrain) + 1), 2))\n",
    "    num_data = len(indices_list_t)\n",
    "    chunk, extra = num_data // size, num_data % size\n",
    "    data_begin = rank * chunk + min(rank, extra)\n",
    "    data_end = num_data if rank == size - 1 else (rank + 1) * chunk + min(rank + 1, extra)\n",
    "    data_index = range(data_begin, data_end)\n",
    "    indices_list_rank = indices_list_t[data_begin:data_end]\n",
    "\n",
    "    t0 = time.time()\n",
    "    psix = make_bsp(ndim)\n",
    "    psiy = psix.inverse()\n",
    "    circuit = psix.assign_parameters(dtrain[0]).compose(psiy.assign_parameters(dtrain[1]))\n",
    "    converter = CircuitToEinsum(circuit, dtype='complex128', backend='cupy')\n",
    "    a = str(0).zfill(ndim)\n",
    "    exp, oper = converter.amplitude(a)\n",
    "    exp_t = round((time.time() - t0), 3)\n",
    "\n",
    "    t0 = time.time()\n",
    "    options = NetworkOptions(blocking=\"auto\", device_id=device_id)\n",
    "    network = Network(exp, *oper, options=options)\n",
    "    path, info = network.contract_path()\n",
    "    network.autotune(iterations=20)\n",
    "    path_t = round((time.time() - t0), 3)\n",
    "\n",
    "    t0 = time.time()\n",
    "    oper_train = []\n",
    "    if genop:\n",
    "        n = ndim\n",
    "        izy = 6 * np.array(range(n)) + n - 2\n",
    "        izy[0] = n + 1\n",
    "        izz = 6 * np.array(range(n)) + n + 7\n",
    "        izz[n - 1] = 7 * n - 3\n",
    "        iyz = 3 * np.array(range(n)) + 8 * n - 2\n",
    "        for i1, i2 in indices_list_t:\n",
    "            op = new_op(ndim, oper, dtrain[i1 - 1], dtrain[i2 - 1], izy, izz, iyz)\n",
    "            oper_train.append(op)\n",
    "    else:\n",
    "        for i1, i2 in indices_list_t:\n",
    "            cir = psix.assign_parameters(dtrain[i1 - 1]).compose(psiy.assign_parameters(dtrain[i2 - 1]))\n",
    "            con = CircuitToEinsum(cir, dtype='complex128', backend='cupy')\n",
    "            exp, op = con.amplitude(a)\n",
    "            oper_train.append(op)\n",
    "    oper_t = round((time.time() - t0), 3)\n",
    "\n",
    "    t0 = time.time()\n",
    "    amp_list = operand_to_amp(oper_train, indices_list_rank, network)\n",
    "    amp_list = cp.array(amp_list)\n",
    "\n",
    "    data = comm_mpi.gather(amp_list, root=0)\n",
    "    kernel_t = round((time.time() - t0), 3)\n",
    "    if rank == root:\n",
    "        print(ndim, len(dtrain), exp_t, path_t, oper_t, kernel_t, f\"{len(amp_list)} / {len(data)}\")\n",
    "        return data\n",
    "\n",
    "# Define parameters\n",
    "ndim = 10\n",
    "nb1, nb2 = 80, 1\n",
    "dtrain, _ = data_prepare(ndim, X_train, X_test, nb1, nb2)\n",
    "amp = test_train(ndim, dtrain)\n",
    "\n",
    "# Convert to kernel matrix for plotting\n",
    "indices_list = list(combinations(range(1, len(dtrain) + 1), 2))\n",
    "ker = list2kernel(amp, indices_list, dtrain, dtrain, 'train')\n",
    "\n",
    "# Plot the kernel matrix\n",
    "fig, axs = plt.subplots(1, 1, figsize=(10, 5))\n",
    "axs.imshow(np.asmatrix(ker), interpolation=\"nearest\", origin=\"upper\", cmap=\"bwr\")\n",
    "axs.set_title(\"kernel_matrix_train\")\n",
    "plt.show()\n"
   ]
  },
  {
   "cell_type": "code",
   "execution_count": 20,
   "id": "11b02b19-76e3-49ff-8d5d-f9df2df0f5db",
   "metadata": {},
   "outputs": [
    {
     "name": "stdout",
     "output_type": "stream",
     "text": [
      "SVM Accuracy after AQGA: 29.31%\n"
     ]
    }
   ],
   "source": [
    "import numpy as np\n",
    "import scipy.io\n",
    "import matplotlib.pyplot as plt\n",
    "from sklearn.model_selection import train_test_split\n",
    "from sklearn.preprocessing import StandardScaler\n",
    "from sklearn.decomposition import PCA\n",
    "from sklearn.metrics import accuracy_score\n",
    "from sklearn.svm import SVC\n",
    "from qiskit import QuantumCircuit\n",
    "from qiskit_aer import AerSimulator\n",
    "from qiskit_aer import Aer\n",
    "from qiskit.circuit.library import ZZFeatureMap\n",
    "from qiskit_machine_learning.algorithms import QSVC\n",
    "from qiskit_machine_learning.kernels import FidelityQuantumKernel\n",
    "from deap import base, creator, tools\n",
    "\n",
    "class AdaptiveQuantumGeneticAlgorithm:\n",
    "    def __init__(self, population_size=20, generations=10, cxpb=0.5, mutpb=0.2, theta_max=np.pi/2, theta_min=0):\n",
    "        self.population_size = population_size\n",
    "        self.generations = generations\n",
    "        self.cxpb = cxpb\n",
    "        self.mutpb = mutpb\n",
    "        self.theta_max = theta_max\n",
    "        self.theta_min = theta_min\n",
    "\n",
    "    def circuit(self, rotation_tensor, population):\n",
    "        num_qubits = len(rotation_tensor)\n",
    "        qc = QuantumCircuit(num_qubits)\n",
    "        for i in range(num_qubits):\n",
    "            qc.rx(rotation_tensor[i], i)\n",
    "        qc.measure_all()\n",
    "        return qc\n",
    "\n",
    "    def evaluate(self, individual, X, y):\n",
    "        # Evaluate the fitness of the individual\n",
    "        X_selected = X[:, np.where(individual)[0]]\n",
    "        if X_selected.shape[1] == 0:\n",
    "            return (0,)\n",
    "        clf = SVC()\n",
    "        clf.fit(X_selected, y)\n",
    "        accuracy = clf.score(X_selected, y)\n",
    "        return (accuracy,)\n",
    "\n",
    "    def fit(self, X, y):\n",
    "        num_features = X.shape[1]\n",
    "\n",
    "        # Initialization\n",
    "        rotation_tensor = np.full(num_features, np.pi / 2)\n",
    "        mutation_tensor = np.zeros(num_features)\n",
    "        \n",
    "        # Create population\n",
    "        population = [np.random.randint(2, size=num_features) for _ in range(self.population_size)]\n",
    "        \n",
    "        best_individual = None\n",
    "\n",
    "        for t in range(self.generations):\n",
    "            # Execute quantum circuit and evaluate population\n",
    "            qc = self.circuit(rotation_tensor, population)\n",
    "            backend = AerSimulator()\n",
    "            result = backend.run(qc, shots=1024).result()\n",
    "            results = result.get_counts()\n",
    "            states = [result for result in results.keys()]\n",
    "            \n",
    "            # Evaluate and sort population\n",
    "            fitness_scores = [self.evaluate(ind, X, y) for ind in population]\n",
    "            sorted_indices = np.argsort([-fs[0] for fs in fitness_scores])\n",
    "            population = [population[i] for i in sorted_indices]\n",
    "            fitness_scores = [fitness_scores[i] for i in sorted_indices]\n",
    "            \n",
    "            best_individual = population[0]\n",
    "\n",
    "            # Update rotation tensor\n",
    "            theta_t = self.theta_max - (self.theta_max - self.theta_min) / self.generations * t\n",
    "            rotation_tensor += np.random.uniform(-theta_t, theta_t, num_features)\n",
    "            mutation_tensor += np.random.uniform(-1, 1, num_features)\n",
    "\n",
    "            # Apply mutation\n",
    "            population = [self.mutate(ind) for ind in population]\n",
    "\n",
    "        return best_individual\n",
    "\n",
    "    def mutate(self, individual):\n",
    "        # Apply mutation to the individual\n",
    "        if np.random.random() < self.mutpb:\n",
    "            idx = np.random.randint(len(individual))\n",
    "            individual[idx] = 1 - individual[idx]\n",
    "        return individual\n",
    "\n",
    "# Load the dataset and process\n",
    "data = scipy.io.loadmat('data/BCICIV_2a_gdf/processed_features_vmd/combined_features_labels.mat')\n",
    "X = np.real(data['features'])\n",
    "y = data['labels'].flatten()\n",
    "\n",
    "# Normalize and split data\n",
    "scaler = StandardScaler()\n",
    "X = scaler.fit_transform(X)\n",
    "X_train, X_test, y_train, y_test = train_test_split(X, y, test_size=0.2, random_state=42)\n",
    "\n",
    "# Apply PCA\n",
    "pca = PCA(n_components=10)\n",
    "X_train_reduced = pca.fit_transform(X_train)\n",
    "X_test_reduced = pca.transform(X_test)\n",
    "\n",
    "# Run AQGA\n",
    "aqga = AdaptiveQuantumGeneticAlgorithm(population_size=5, generations=20)\n",
    "selected_features_indices = aqga.fit(X_train_reduced, y_train)\n",
    "\n",
    "# Select features and evaluate\n",
    "X_train_selected = X_train_reduced[:, selected_features_indices.astype(bool)]\n",
    "X_test_selected = X_test_reduced[:, selected_features_indices.astype(bool)]\n",
    "\n",
    "# Train and evaluate SVM\n",
    "svm_model = SVC(kernel='linear', class_weight='balanced')\n",
    "svm_model.fit(X_train_selected, y_train)\n",
    "svm_predicted_labels = svm_model.predict(X_test_selected)\n",
    "\n",
    "# Evaluate SVM model\n",
    "svm_accuracy = accuracy_score(y_test, svm_predicted_labels)\n",
    "print(f'SVM Accuracy after AQGA: {svm_accuracy * 100:.2f}%')\n"
   ]
  },
  {
   "cell_type": "code",
   "execution_count": null,
   "id": "cb354e7e-7b2d-4409-b849-2fa03f0f6fd4",
   "metadata": {},
   "outputs": [],
   "source": [
    "import numpy as np\n",
    "import scipy.io\n",
    "import matplotlib.pyplot as plt\n",
    "from sklearn.model_selection import train_test_split\n",
    "from sklearn.preprocessing import StandardScaler\n",
    "from sklearn.decomposition import PCA\n",
    "from sklearn.metrics import accuracy_score\n",
    "from sklearn.neural_network import MLPClassifier\n",
    "from qiskit import QuantumCircuit\n",
    "from qiskit_aer import AerSimulator\n",
    "from qiskit.circuit.library import ZZFeatureMap\n",
    "from qiskit_machine_learning.algorithms import QSVC\n",
    "from qiskit_machine_learning.kernels import FidelityQuantumKernel\n",
    "from qiskit.circuit.library import RX, RY, RZ, CNOT, CZ, iSwap\n",
    "\n",
    "# Define Quantum Circuit Architectures\n",
    "def create_quantum_circuit(num_layers, gates):\n",
    "    qc = QuantumCircuit(num_layers)\n",
    "    for layer in range(num_layers):\n",
    "        for gate in gates:\n",
    "            if gate == 'RY':\n",
    "                qc.ry(np.pi/4, layer)\n",
    "            elif gate == 'RZ':\n",
    "                qc.rz(np.pi/4, layer)\n",
    "            elif gate == 'RX':\n",
    "                qc.rx(np.pi/4, layer)\n",
    "            elif gate == 'CNOT':\n",
    "                qc.cx(layer, (layer+1) % num_layers)\n",
    "            elif gate == 'CZ':\n",
    "                qc.cz(layer, (layer+1) % num_layers)\n",
    "            elif gate == 'iSWAP':\n",
    "                qc.iswap(layer, (layer+1) % num_layers)\n",
    "    return qc\n",
    "\n",
    "def create_kernel(num_layers, gates):\n",
    "    feature_map = ZZFeatureMap(feature_dimension=num_layers, entanglement='linear')\n",
    "    qc = create_quantum_circuit(num_layers, gates)\n",
    "    kernel = FidelityQuantumKernel(feature_map=feature_map, quantum_kernel=qc)\n",
    "    return kernel\n",
    "\n",
    "# Load and preprocess the dataset\n",
    "data = scipy.io.loadmat('data/BCICIV_2a_gdf/processed_features_vmd/combined_features_labels.mat')\n",
    "X = np.real(data['features'])\n",
    "y = data['labels'].flatten()\n",
    "\n",
    "# Normalize and split data\n",
    "scaler = StandardScaler()\n",
    "X = scaler.fit_transform(X)\n",
    "X_train, X_test, y_train, y_test = train_test_split(X, y, test_size=0.2, random_state=42)\n",
    "\n",
    "# Apply PCA\n",
    "pca = PCA(n_components=10)\n",
    "X_train_reduced = pca.fit_transform(X_train)\n",
    "X_test_reduced = pca.transform(X_test)\n",
    "\n",
    "# Quantum model training and evaluation\n",
    "def evaluate_qsvc(kernel):\n",
    "    qs_model = QSVC(quantum_kernel=kernel)\n",
    "    qs_model.fit(X_train_reduced, y_train)\n",
    "    qs_predicted_labels = qs_model.predict(X_test_reduced)\n",
    "    return accuracy_score(y_test, qs_predicted_labels)\n",
    "\n",
    "# Define gates and layers configurations\n",
    "configurations = [\n",
    "    {'num_layers': 1, 'gates': ['RY', 'CNOT']},\n",
    "    {'num_layers': 5, 'gates': ['RY', 'CZ']},\n",
    "    {'num_layers': 10, 'gates': ['RX', 'iSWAP']}\n",
    "]\n",
    "\n",
    "results = {}\n",
    "for config in configurations:\n",
    "    kernel = create_kernel(config['num_layers'], config['gates'])\n",
    "    accuracy = evaluate_qsvc(kernel)\n",
    "    results[f'Quantum Model: Layers={config[\"num_layers\"]}, Gates={config[\"gates\"]}'] = accuracy\n",
    "\n",
    "# Classical MLP Model\n",
    "mlp = MLPClassifier(hidden_layer_sizes=(50, 50), max_iter=500, random_state=42)\n",
    "mlp.fit(X_train_reduced, y_train)\n",
    "mlp_predicted_labels = mlp.predict(X_test_reduced)\n",
    "mlp_accuracy = accuracy_score(y_test, mlp_predicted_labels)\n",
    "results['Classical MLP'] = mlp_accuracy\n",
    "\n",
    "# Plot and save results with 300 DPI\n",
    "def plot_comparison(results, file_name):\n",
    "    algorithms = list(results.keys())\n",
    "    accuracies = [results[alg] * 100 for alg in algorithms]\n",
    "    plt.figure(figsize=(10, 6))\n",
    "    plt.bar(algorithms, accuracies, color='blue')\n",
    "    plt.ylabel('Accuracy (%)')\n",
    "    plt.title('Comparison of Quantum and Classical Models')\n",
    "    plt.xticks(rotation=45, ha='right')\n",
    "    plt.tight_layout()\n",
    "    plt.savefig(file_name, dpi=300)\n",
    "    plt.close()\n",
    "\n",
    "# Save comparison plot\n",
    "plot_comparison(results, 'comparison_results.png')\n",
    "\n",
    "print('Comparison plot saved to comparison_results.png')\n"
   ]
  },
  {
   "cell_type": "code",
   "execution_count": null,
   "id": "316a7c4d-ac6f-4e6b-8eac-b4b33d3be4c8",
   "metadata": {},
   "outputs": [],
   "source": []
  }
 ],
 "metadata": {
  "kernelspec": {
   "display_name": "Python 3 (ipykernel)",
   "language": "python",
   "name": "python3"
  },
  "language_info": {
   "codemirror_mode": {
    "name": "ipython",
    "version": 3
   },
   "file_extension": ".py",
   "mimetype": "text/x-python",
   "name": "python",
   "nbconvert_exporter": "python",
   "pygments_lexer": "ipython3",
   "version": "3.10.13"
  }
 },
 "nbformat": 4,
 "nbformat_minor": 5
}
